{
 "cells": [
  {
   "cell_type": "markdown",
   "id": "cardiac-satellite",
   "metadata": {},
   "source": [
    "# Precautionary Saving and Precautionary Wealth\n",
    "\n",
    "### A notebook by [Mateo Velasquez-Giraldo](https://github.com/Mv77/)\n",
    "\n",
    "This notebook reproduces the figures in Christopher D. Carroll and Miles S. Kimball's entry on [Precautionary Saving and Precautionary Wealth](http://www.econ2.jhu.edu/people/ccarroll/PalgravePrecautionary.pdf) in [The New Palgrave Dictionary of Economics](https://www.palgrave.com/gp/book/9781349951888), using tools from the [Econ-ARK](https://econ-ark.org/) project."
   ]
  },
  {
   "cell_type": "code",
   "execution_count": 1,
   "id": "advisory-input",
   "metadata": {
    "code_folding": []
   },
   "outputs": [
    {
     "name": "stdout",
     "output_type": "stream",
     "text": [
      "Requirement already satisfied: econ-ark in c:\\users\\adria\\anaconda3\\envs\\py388_hark_0p12\\lib\\site-packages (0.12.0)\n",
      "Requirement already satisfied: dill in c:\\users\\adria\\appdata\\roaming\\python\\python38\\site-packages (from econ-ark) (0.3.3)\n",
      "Requirement already satisfied: joblib in c:\\users\\adria\\appdata\\roaming\\python\\python38\\site-packages (from econ-ark) (1.0.0)\n",
      "Requirement already satisfied: quantecon in c:\\users\\adria\\anaconda3\\envs\\py388_hark_0p12\\lib\\site-packages (from econ-ark) (0.5.1)\n",
      "Requirement already satisfied: interpolation in c:\\users\\adria\\anaconda3\\envs\\py388_hark_0p12\\lib\\site-packages (from econ-ark) (2.2.1)\n",
      "Requirement already satisfied: scipy in c:\\users\\adria\\anaconda3\\envs\\py388_hark_0p12\\lib\\site-packages (from econ-ark) (1.6.2)\n",
      "Requirement already satisfied: numba in c:\\users\\adria\\anaconda3\\envs\\py388_hark_0p12\\lib\\site-packages (from econ-ark) (0.53.1)\n",
      "Requirement already satisfied: pandas in c:\\users\\adria\\appdata\\roaming\\python\\python38\\site-packages (from econ-ark) (1.1.5)\n",
      "Requirement already satisfied: matplotlib in c:\\users\\adria\\appdata\\roaming\\python\\python38\\site-packages (from econ-ark) (3.4.2)\n",
      "Requirement already satisfied: numpy in c:\\users\\adria\\appdata\\roaming\\python\\python38\\site-packages (from econ-ark) (1.21.1)\n",
      "Requirement already satisfied: tempita>=0.5.2 in c:\\users\\adria\\anaconda3\\envs\\py388_hark_0p12\\lib\\site-packages (from interpolation->econ-ark) (0.5.2)\n",
      "Requirement already satisfied: setuptools in c:\\users\\adria\\anaconda3\\envs\\py388_hark_0p12\\lib\\site-packages (from numba->econ-ark) (52.0.0.post20210125)\n",
      "Requirement already satisfied: llvmlite<0.37,>=0.36.0rc1 in c:\\users\\adria\\anaconda3\\envs\\py388_hark_0p12\\lib\\site-packages (from numba->econ-ark) (0.36.0)\n",
      "Requirement already satisfied: pyparsing>=2.2.1 in c:\\users\\adria\\anaconda3\\envs\\py388_hark_0p12\\lib\\site-packages (from matplotlib->econ-ark) (2.4.7)\n",
      "Requirement already satisfied: pillow>=6.2.0 in c:\\users\\adria\\appdata\\roaming\\python\\python38\\site-packages (from matplotlib->econ-ark) (8.1.0)\n",
      "Requirement already satisfied: python-dateutil>=2.7 in c:\\users\\adria\\anaconda3\\envs\\py388_hark_0p12\\lib\\site-packages (from matplotlib->econ-ark) (2.8.1)\n",
      "Requirement already satisfied: kiwisolver>=1.0.1 in c:\\users\\adria\\anaconda3\\envs\\py388_hark_0p12\\lib\\site-packages (from matplotlib->econ-ark) (1.3.1)\n",
      "Requirement already satisfied: cycler>=0.10 in c:\\users\\adria\\anaconda3\\envs\\py388_hark_0p12\\lib\\site-packages (from matplotlib->econ-ark) (0.10.0)\n",
      "Requirement already satisfied: six in c:\\users\\adria\\anaconda3\\envs\\py388_hark_0p12\\lib\\site-packages (from cycler>=0.10->matplotlib->econ-ark) (1.15.0)\n",
      "Requirement already satisfied: pytz>=2017.2 in c:\\users\\adria\\appdata\\roaming\\python\\python38\\site-packages (from pandas->econ-ark) (2020.5)\n",
      "Requirement already satisfied: sympy in c:\\users\\adria\\anaconda3\\envs\\py388_hark_0p12\\lib\\site-packages (from quantecon->econ-ark) (1.8)\n",
      "Requirement already satisfied: requests in c:\\users\\adria\\anaconda3\\envs\\py388_hark_0p12\\lib\\site-packages (from quantecon->econ-ark) (2.10.0)\n",
      "Requirement already satisfied: mpmath>=0.19 in c:\\users\\adria\\anaconda3\\envs\\py388_hark_0p12\\lib\\site-packages (from sympy->quantecon->econ-ark) (1.2.1)\n",
      "Requirement already satisfied: numpy in c:\\users\\adria\\appdata\\roaming\\python\\python38\\site-packages (1.21.1)\n",
      "Requirement already satisfied: matplotlib in c:\\users\\adria\\appdata\\roaming\\python\\python38\\site-packages (3.4.2)\n",
      "Requirement already satisfied: numpy>=1.16 in c:\\users\\adria\\appdata\\roaming\\python\\python38\\site-packages (from matplotlib) (1.21.1)\n",
      "Requirement already satisfied: kiwisolver>=1.0.1 in c:\\users\\adria\\anaconda3\\envs\\py388_hark_0p12\\lib\\site-packages (from matplotlib) (1.3.1)\n",
      "Requirement already satisfied: pillow>=6.2.0 in c:\\users\\adria\\appdata\\roaming\\python\\python38\\site-packages (from matplotlib) (8.1.0)\n",
      "Requirement already satisfied: pyparsing>=2.2.1 in c:\\users\\adria\\anaconda3\\envs\\py388_hark_0p12\\lib\\site-packages (from matplotlib) (2.4.7)\n",
      "Requirement already satisfied: python-dateutil>=2.7 in c:\\users\\adria\\anaconda3\\envs\\py388_hark_0p12\\lib\\site-packages (from matplotlib) (2.8.1)\n",
      "Requirement already satisfied: cycler>=0.10 in c:\\users\\adria\\anaconda3\\envs\\py388_hark_0p12\\lib\\site-packages (from matplotlib) (0.10.0)\n",
      "Requirement already satisfied: six in c:\\users\\adria\\anaconda3\\envs\\py388_hark_0p12\\lib\\site-packages (from cycler>=0.10->matplotlib) (1.15.0)\n",
      "Requirement already satisfied: scipy in c:\\users\\adria\\anaconda3\\envs\\py388_hark_0p12\\lib\\site-packages (1.6.2)\n",
      "Requirement already satisfied: numpy<1.23.0,>=1.16.5 in c:\\users\\adria\\appdata\\roaming\\python\\python38\\site-packages (from scipy) (1.21.1)\n"
     ]
    }
   ],
   "source": [
    "# Uninteresting setup of the computational environment \n",
    "\n",
    "!pip install econ-ark\n",
    "!pip install numpy\n",
    "!pip install matplotlib \n",
    "!pip install scipy \n",
    "\n",
    "\n",
    "from HARK.ConsumptionSaving.ConsIndShockModel import IndShockConsumerType\n",
    "from HARK.distribution import DiscreteDistribution\n",
    "\n",
    "import matplotlib.pyplot as plt\n",
    "import numpy as np\n",
    "mystr = lambda number : \"{:.4f}\".format(number)\n",
    "\n",
    "from copy import copy\n",
    "\n",
    "from scipy.interpolate import interp1d\n",
    "from scipy.optimize import root_scalar\n",
    "\n",
    "from ipywidgets import interact, interactive, fixed, interact_manual\n",
    "import ipywidgets as widgets"
   ]
  },
  {
   "cell_type": "code",
   "execution_count": 2,
   "id": "explicit-replication",
   "metadata": {
    "code_folding": [],
    "lines_to_next_cell": 2
   },
   "outputs": [],
   "source": [
    "# Define parameters for two consumers,\n",
    "# a perfect foresight one and one with shocks to income\n",
    "\n",
    "# Import standard parameters\n",
    "from HARK.ConsumptionSaving.ConsIndShockModel import init_idiosyncratic_shocks\n",
    "IdiosyncDict = init_idiosyncratic_shocks\n",
    "\n",
    "# Make modifications to fit our problem:\n",
    "\n",
    "# No artificial borrowing constraint\n",
    "IdiosyncDict[\"BoroCnstArt\"] = None\n",
    "# No unemployment\n",
    "IdiosyncDict[\"UnempPrb\"] = 0\n",
    "# Ask HARK to compute the value function\n",
    "IdiosyncDict[\"vFuncBool\"] = True\n",
    "# Turn off permanent income shocks\n",
    "IdiosyncDict[\"PermShkStd\"] = [0]\n",
    "# Make R 1\n",
    "IdiosyncDict[\"Rfree\"] = 1\n",
    "\n",
    "# For transitory shocks, to illustrate the problem, we want two possible\n",
    "# values: a good and a bad one. This is most easily achieved by setting\n",
    "# a large standard deviation (3) and telling HARK to approximate the\n",
    "# distribution using only two points.\n",
    "IdiosyncDict[\"TranShkStd\"] = [3]\n",
    "IdiosyncDict[\"TranShkCount\"] = 2\n",
    "\n",
    "# Create a copy with income uncertainty turned off, for comparison\n",
    "PFDict = copy(IdiosyncDict)\n",
    "PFDict[\"TranShkStd\"] = [0]\n",
    "PFDict[\"TranShkCount\"] = 1"
   ]
  },
  {
   "cell_type": "code",
   "execution_count": 3,
   "id": "stone-native",
   "metadata": {
    "code_folding": [],
    "lines_to_next_cell": 1
   },
   "outputs": [],
   "source": [
    "# Create and solve problems for the two consumers\n",
    "IndShockConsumer = IndShockConsumerType(**IdiosyncDict)\n",
    "IndShockConsumer.cycles = 2 # Make this type have a two-period horizon\n",
    "IndShockConsumer.solve()\n",
    "\n",
    "PFConsumer = IndShockConsumerType(**PFDict)\n",
    "PFConsumer.cycles = 2\n",
    "PFConsumer.solve()"
   ]
  },
  {
   "cell_type": "markdown",
   "id": "modified-report",
   "metadata": {},
   "source": [
    "## Figure 1: Marginal Utility of Assets and Consumption"
   ]
  },
  {
   "cell_type": "markdown",
   "id": "affiliated-inflation",
   "metadata": {},
   "source": [
    "Consider an agent facing the following dynamic problem expressed in recursive form:\n",
    "\n",
    "\\begin{equation}\n",
    "\\begin{split}\n",
    "v_t(m_t) =& \\max_{c_t} u(c_t) + \\beta \\mathbb{E}_t[v_{t+1}(R a_t + \\tilde{y}_{t+1})] \\\\\n",
    "& s.t & \\\\\n",
    "\\quad a_t =&  m_t - c_t,\n",
    "\\end{split}\n",
    "\\end{equation}\n",
    "\n",
    "where $c_t$ represents consumption, $m_t$ beginning-of-period resources, $a_t$ end-of-period resources, and $\\tilde{y}_{t+1}$ non-capital income in the next period, which is random from the perspective of this period.\n",
    "\n",
    "The consumer chooses $c_t$ balancing two forces:\n",
    "- The desire to consume his resources now, captured by $u(c_t)$.\n",
    "- The benefit that he gets from saving his resources for next period, which we represent with $\\omega(a_t)=\\beta \\mathbb{E}_t[v_{t+1}(R a_t + \\tilde{y}_{t+1})]$.\n",
    "\n",
    "Under standard assumptions, a requirement for optimality is that $$u'(m_t - a_t) = \\omega'(a_t),$$ because this is the condition that says that a marginal dollar of resources would be equally valuable if it were spent (yielding $u'$) or saved (yielding $\\omega^{\\prime}$).\n",
    "\n",
    "Figure 1 shows that uncertainty shifts up the expected marginal value of\n",
    "resources on the next period, moving savings from $a^*$ (which would be\n",
    "observed if income were certain at $\\mathbb{E}_t[\\tilde{y}_{t+1}]$) to \n",
    "$a^{**}$. This increase is the precautionary saving induced by the uncertainty \n",
    "around income."
   ]
  },
  {
   "cell_type": "code",
   "execution_count": 4,
   "id": "fleet-rachel",
   "metadata": {
    "code_folding": []
   },
   "outputs": [],
   "source": [
    "# Figure 1\n",
    "\n",
    "def uP(agent, c):\n",
    "    '''\n",
    "    Computes the marginal utility of consumption for an agent with\n",
    "    CRRA utility at a consumption level c.\n",
    "    '''\n",
    "    return( c**(-agent.CRRA) )\n",
    "    \n",
    "def approxOmegaP(agent):\n",
    "    '''\n",
    "    Constructs a function that computes the discounted expected marginal value\n",
    "    of wealth next period w'(a) for a grid of end of period assets using the\n",
    "    fact that optimal consumption c() satisfies u'(c(m_t)) = w'_t(m_t - c(m_t))\n",
    "    '''\n",
    "    # Take the end-of-period assets grid from the consumer\n",
    "    agrid = agent.aXtraGrid\n",
    "    a_min = agrid[0]\n",
    "    a_max = agrid[-1]\n",
    "    # For each a, we need to find the implied m that generates it\n",
    "    aux = lambda m: m - agent.solution[0].cFunc(m)\n",
    "    m_grid = np.array([root_scalar(lambda m: a - aux(m), x0 = a_min, x1 = a_max).root\n",
    "                       for a in agrid])\n",
    "    \n",
    "    # Then we can get consumption\n",
    "    c_grid = agent.solution[0].cFunc(m_grid)\n",
    "    # And with consmption, omega, since\n",
    "    # omega prime is U' at the optimal C.\n",
    "    omegaP_grid = uP(agent, c_grid)\n",
    "    \n",
    "    # We finally interpolate\n",
    "    omegaP = interp1d(agrid, omegaP_grid, kind='cubic')\n",
    "    \n",
    "    return(omegaP)\n",
    "\n",
    "def create_income_dstn(epsilon):\n",
    "    \n",
    "    # No permanent income shocks and 1+eps, 1-eps with half chance each for transitory.\n",
    "    IncomeDstn = DiscreteDistribution(np.array([0.5,0.5]),\n",
    "                                      [np.array([1,1]), np.array([1-epsilon,1+epsilon])])\n",
    "\n",
    "def create_agents(CRRA,TranShkStd):\n",
    "    \n",
    "    # Copy base dictionaries\n",
    "    un_dict = copy(IdiosyncDict)\n",
    "    pf_dict = copy(PFDict)\n",
    "    \n",
    "    # Update CRRA\n",
    "    un_dict['CRRA'] = CRRA\n",
    "    pf_dict['CRRA'] = CRRA\n",
    "    \n",
    "    # Update transitory shock sd\n",
    "    un_dict[\"TranShkStd\"] = [TranShkStd]\n",
    "    \n",
    "    IndShockConsumer = IndShockConsumerType(**un_dict)\n",
    "    IndShockConsumer.cycles = 2 # Make this type have a two-period horizon\n",
    "    IndShockConsumer.solve()\n",
    "\n",
    "    PFConsumer = IndShockConsumerType(**pf_dict)\n",
    "    PFConsumer.cycles = 2\n",
    "    PFConsumer.solve()\n",
    "    \n",
    "    return((IndShockConsumer, PFConsumer))\n",
    "\n",
    "def fig1(CRRA, TranShkStd, m, a_m_min, a_m_max):\n",
    "    \n",
    "    # Create and solve consumers\n",
    "    IndShockConsumer, PFConsumer = create_agents(CRRA, TranShkStd)\n",
    "    \n",
    "    # Approximate omega with and without uncertainty\n",
    "    omegaP_uncert = approxOmegaP(IndShockConsumer)\n",
    "    omegaP_PF = approxOmegaP(PFConsumer)\n",
    "\n",
    "    # Consumption functions\n",
    "    cPF = PFConsumer.solution[0].cFunc\n",
    "    cIS = IndShockConsumer.solution[0].cFunc\n",
    "\n",
    "    # Find intercepts with marginal utility\n",
    "    a_star1 = m - cPF(m)\n",
    "    a_star2 = m - cIS(m)\n",
    "\n",
    "    # Grid for end-of-period assets\n",
    "    a_grid = np.linspace(a_m_min*m, a_m_max*m, 50)\n",
    "\n",
    "    # Line labels\n",
    "    lab1 = '$\\omega_t\\'(a) = R \\\\beta E_t [v_{t+1}\\'(aR + \\\\tilde{y}_{t+1})]$'\n",
    "    lab2 = '$R \\\\beta v_{t+1}\\'(aR + E_t[\\\\tilde{y}_{t+1}])$'\n",
    "    lab3 = '$u\\'(m_t-a)$'\n",
    "\n",
    "    # Main lines\n",
    "\n",
    "    # Omega uncertainty\n",
    "    plt.figure(figsize = (10,8))\n",
    "    plt.plot(a_grid, omegaP_uncert(a_grid), label = lab1)\n",
    "    # Omega Perfect foresight\n",
    "    plt.plot(a_grid, omegaP_PF(a_grid), label = lab2)\n",
    "    # Marginal utility\n",
    "    plt.plot(a_grid, uP(IndShockConsumer, m - a_grid), label = lab3)\n",
    "\n",
    "    # Intersection lines\n",
    "    ymin = plt.gca().get_ylim()[0]\n",
    "    plt.plot([a_star1,a_star1],[ymin, uP(IndShockConsumer,m-a_star1)],'--k')\n",
    "    plt.plot([a_star2,a_star2],[ymin, uP(IndShockConsumer,m-a_star2)],'--k')\n",
    "\n",
    "    # x-axis ticks\n",
    "    ax = plt.gca()\n",
    "    ax.set_xticks([a_star1,a_star2])\n",
    "    ax.set_xticklabels([\"$a^*$\",\"$a^{**}$\"])\n",
    "    plt.ylim(0,1.5)\n",
    "    # Text\n",
    "    plt.xlabel('a', x=1)\n",
    "    plt.legend()\n",
    "    plt.show()\n",
    "\n"
   ]
  },
  {
   "cell_type": "code",
   "execution_count": 5,
   "id": "protecting-negative",
   "metadata": {},
   "outputs": [
    {
     "data": {
      "application/vnd.jupyter.widget-view+json": {
       "model_id": "3ffe0761a29d48b095ef37084e71047d",
       "version_major": 2,
       "version_minor": 0
      },
      "text/plain": [
       "interactive(children=(FloatSlider(value=2.0, continuous_update=False, description='$\\\\rho$', max=8.0, min=1.02…"
      ]
     },
     "metadata": {},
     "output_type": "display_data"
    },
    {
     "data": {
      "text/plain": [
       "<function __main__.fig1(CRRA, TranShkStd, m, a_m_min, a_m_max)>"
      ]
     },
     "execution_count": 5,
     "metadata": {},
     "output_type": "execute_result"
    }
   ],
   "source": [
    "# Widget\n",
    "\n",
    "# CRRA - slider\n",
    "crra_slider = widgets.FloatSlider(\n",
    "                min = 1.02,\n",
    "                max = 8,\n",
    "                step = 0.01,\n",
    "                value = 2,  # Default value\n",
    "                continuous_update=False,\n",
    "                readout_format ='.4f',\n",
    "                description='$\\\\rho$')\n",
    "\n",
    "# m - slider\n",
    "m_slider = widgets.FloatSlider(min = 1.00,\n",
    "                               max = 5,\n",
    "                               step = 0.5,\n",
    "                               value = 3,  # Default value\n",
    "                               continuous_update=False,\n",
    "                               readout_format ='.4f',\n",
    "                               description='$m$')\n",
    "\n",
    "# a_left_limit - slider\n",
    "a_m_min_slider = widgets.FloatSlider(min = 0.05,\n",
    "                                     max = 0.5,\n",
    "                                     step = 0.01,\n",
    "                                     value = 0.2,  # Default value\n",
    "                                     continuous_update=False,\n",
    "                                     readout_format ='.4f',\n",
    "                                     description='$a_{\\\\min}/m$')\n",
    "\n",
    "# a_right_limit - slider\n",
    "a_m_max_slider = widgets.FloatSlider(min = 0.5,\n",
    "                                     max = 0.99,\n",
    "                                     step = 0.01,\n",
    "                                     value = 0.8,  # Default value\n",
    "                                     continuous_update=False,\n",
    "                                     readout_format ='.4f',\n",
    "                                     description='$a_{\\\\max}/m$')\n",
    "\n",
    "# Shock std - slider\n",
    "TranShkStd_slider = widgets.FloatSlider(min = 0.1,\n",
    "                                        max = 5,\n",
    "                                        step = 0.01,\n",
    "                                        value = 1,  # Default value\n",
    "                                        continuous_update=False,\n",
    "                                        readout_format ='.4f',\n",
    "                                        description='Shock s.d.')\n",
    "\n",
    "interact(fig1,\n",
    "         CRRA = crra_slider,\n",
    "         TranShkStd = TranShkStd_slider,\n",
    "         m = m_slider,\n",
    "         a_m_min = a_m_min_slider,\n",
    "         a_m_max = a_m_max_slider)"
   ]
  },
  {
   "cell_type": "markdown",
   "id": "technological-toilet",
   "metadata": {},
   "source": [
    "## Figure 2"
   ]
  },
  {
   "cell_type": "markdown",
   "id": "adult-boost",
   "metadata": {},
   "source": [
    "Figure 2 compares optimal consumption with and without income uncertainty.\n",
    "The three most important facts to note are:\n",
    "1. Consumption under uncertainty is always lower than its perfect-foresight counterpart.\n",
    "2. The difference between them vanishes as market resources approach infinity.\n",
    "3. Under uncertain future income, the consumption function is concave."
   ]
  },
  {
   "cell_type": "code",
   "execution_count": 6,
   "id": "armed-spanish",
   "metadata": {
    "code_folding": []
   },
   "outputs": [],
   "source": [
    "# Figure 2\n",
    "def fig2(CRRA, TranShkStd, m_max):\n",
    "    \n",
    "    # Create and solve consumers\n",
    "    IndShockConsumer, PFConsumer = create_agents(CRRA, TranShkStd)\n",
    "    \n",
    "    # Define a function for the delta(m)=0 locus -- \"sustainable\" consumption\n",
    "    m0_locus = lambda m: m - (m-1)/(IdiosyncDict[\"Rfree\"]/\n",
    "                             IdiosyncDict[\"PermGroFac\"][0])\n",
    "\n",
    "    # Define grid of market resources\n",
    "    m_grid = np.linspace(0.01, m_max, 500)\n",
    "\n",
    "    # Main lines\n",
    "\n",
    "    # Uncertainty solution\n",
    "    plt.figure(figsize = (10,8))\n",
    "    plt.plot(m_grid, IndShockConsumer.solution[0].cFunc(m_grid),\n",
    "             label = '$c(m)$')\n",
    "    # Perfect foresight solution\n",
    "    plt.plot(m_grid, PFConsumer.solution[0].cFunc(m_grid),\n",
    "             label = 'Perf. Foresight $c(m)$')\n",
    "    # Stable resource line\n",
    "    plt.plot(m_grid, m0_locus(m_grid), label = 'Perm. Inc')\n",
    "    # Target\n",
    "    targ = (IndShockConsumer.solution[0].mNrmStE,\n",
    "            IndShockConsumer.solution[0].cFunc(IndShockConsumer.solution[0].mNrmStE))\n",
    "    plt.plot(targ[0], targ[1], '*')\n",
    "\n",
    "    # Annotations\n",
    "    plt.ylim(0,5)\n",
    "    plt.xlabel('m')\n",
    "    plt.ylabel('c')\n",
    "    plt.annotate('Target',\n",
    "                 xy = targ,\n",
    "                 xytext = (targ[0]+1., targ[1]-1),\n",
    "                 arrowprops=dict(facecolor='black', shrink=0.05,\n",
    "                                 headwidth = 3, width = 0.5))\n",
    "    plt.legend()\n",
    "    plt.show()"
   ]
  },
  {
   "cell_type": "code",
   "execution_count": 7,
   "id": "outside-liver",
   "metadata": {},
   "outputs": [
    {
     "data": {
      "application/vnd.jupyter.widget-view+json": {
       "model_id": "f268869ca8cb44d2983e189a33311307",
       "version_major": 2,
       "version_minor": 0
      },
      "text/plain": [
       "interactive(children=(FloatSlider(value=2.0, continuous_update=False, description='$\\\\rho$', max=8.0, min=1.02…"
      ]
     },
     "metadata": {},
     "output_type": "display_data"
    },
    {
     "data": {
      "text/plain": [
       "<function __main__.fig2(CRRA, TranShkStd, m_max)>"
      ]
     },
     "execution_count": 7,
     "metadata": {},
     "output_type": "execute_result"
    }
   ],
   "source": [
    "# m - slider\n",
    "m_max_slider = widgets.FloatSlider(min = 5,\n",
    "                                   max = 50,\n",
    "                                   step = 0.5,\n",
    "                                   value = 20,  # Default value\n",
    "                                   continuous_update=False,\n",
    "                                   readout_format ='.4f',\n",
    "                                   description='$m$')\n",
    "\n",
    "interact(fig2,\n",
    "         CRRA = crra_slider,\n",
    "         TranShkStd = TranShkStd_slider,\n",
    "         m_max = m_max_slider,\n",
    "         a_m_min = a_m_min_slider,\n",
    "         a_m_max = a_m_max_slider)"
   ]
  },
  {
   "cell_type": "markdown",
   "id": "accredited-saskatchewan",
   "metadata": {},
   "source": [
    "# Figure 3"
   ]
  },
  {
   "cell_type": "code",
   "execution_count": 8,
   "id": "material-gambling",
   "metadata": {
    "code_folding": []
   },
   "outputs": [],
   "source": [
    "def fig3(CRRA, eta, a):\n",
    "    \n",
    "    a_min = 1\n",
    "    a_max = 7\n",
    "    y_bar = 1\n",
    "    \n",
    "    # Create and solve consumers\n",
    "    IndShockConsumer, PFConsumer = create_agents(CRRA, 1)\n",
    "\n",
    "    # Grid for end-of period assets\n",
    "    a_grid = np.linspace(a_min, a_max, 50)\n",
    "\n",
    "    # Extract the marginal t+1 value function from the PF agent\n",
    "    vPt1 = lambda a: PFConsumer.solution[1].vPfunc(PFConsumer.Rfree*a + y_bar)\n",
    "    # Define the expected value under uncertainty\n",
    "    vPt1_u = lambda a: 0.5*PFConsumer.solution[1].vPfunc(PFConsumer.Rfree*a + y_bar - eta) +\\\n",
    "                       0.5*PFConsumer.solution[1].vPfunc(PFConsumer.Rfree*a + y_bar + eta)\n",
    "\n",
    "    # Main lines\n",
    "    plt.figure(figsize = (10,8))\n",
    "\n",
    "    # V't+1 perfect foresight\n",
    "    lab1 = '$\\\\mathbb{E}_t[v\\'_{t+1}(a_tR+\\\\tilde{y}_{t+1})]$'\n",
    "    plt.plot(a_grid, vPt1(a_grid), label = lab1)\n",
    "    # V't+1 with uncertainty\n",
    "    lab2 = '$v\\'_{t+1}(a_tR+\\\\bar{y})$'\n",
    "    plt.plot(a_grid, vPt1_u(a_grid), label = lab2)\n",
    "\n",
    "    # Add secondary lines\n",
    "    R = PFConsumer.Rfree\n",
    "    plt.plot([a-eta/R,a+eta/R],\n",
    "             [vPt1(a-eta/R),vPt1(a+eta/R)], 'k--')\n",
    "\n",
    "    plt.plot([a,a],[plt.gca().get_ylim()[0],vPt1_u(a)],'--k')\n",
    "\n",
    "    # Dots\n",
    "    plt.plot(a, vPt1_u(a),'k.')\n",
    "    plt.plot(a-eta/R, vPt1(a-eta/R),'k.')\n",
    "    plt.plot(a+eta/R, vPt1(a+eta/R),'k.')\n",
    "\n",
    "    # Annotations\n",
    "    mid  = [a, vPt1_u(a)]\n",
    "    low  = [a-eta/R, vPt1(a-eta/R)]\n",
    "    high = [a+eta/R, vPt1(a+eta/R)]\n",
    "\n",
    "    plt.annotate('$v\\'_{t+1}(\\\\bar{a}R+\\\\bar{y}-\\\\eta)$',\n",
    "                 xy = low,\n",
    "                 xytext = (low[0], low[1]/2),\n",
    "                 arrowprops=dict(facecolor='black', shrink=0.05,\n",
    "                                 headwidth = 3, width = 0.5))\n",
    "\n",
    "    plt.annotate('$v\\'_{t+1}(\\\\bar{a}R+\\\\bar{y}+\\\\eta)$',\n",
    "                 xy = high,\n",
    "                 xytext = (high[0], high[1]/2),\n",
    "                 arrowprops=dict(facecolor='black', shrink=0.05,\n",
    "                                 headwidth = 3, width = 0.5))\n",
    "\n",
    "    plt.annotate('$0.5 v\\'_{t+1}(\\\\bar{a}R+\\\\bar{y}+\\\\eta)+$\\n$0.5 v\\'_{t+1}(\\\\bar{a}R+\\\\bar{y}-\\\\eta)$',\n",
    "                 xy = mid,\n",
    "                 xytext = (mid[0]+0.2, mid[1]),\n",
    "                 arrowprops=dict(facecolor='black', shrink=0.05,\n",
    "                                 headwidth = 3, width = 0.5))\n",
    "\n",
    "    # xtick for a_bar\n",
    "    ax = plt.gca()\n",
    "    xt = ax.get_xticks()\n",
    "    xt = np.append(xt,[a])\n",
    "\n",
    "    xtl = ax.get_xticklabels()\n",
    "    xtl = np.append(xtl, [\"$\\\\bar{a}$\"])\n",
    "\n",
    "    ax.set_xticks([a])\n",
    "    ax.set_xticklabels([\"$\\\\bar{a}$\"])\n",
    "\n",
    "    # Axis labels and legend\n",
    "    plt.ylim(0,0.5)\n",
    "    plt.xlabel('$a_t$')\n",
    "    plt.ylabel('$v\\'_{t+1}$')\n",
    "    plt.legend()\n",
    "    plt.show()"
   ]
  },
  {
   "cell_type": "code",
   "execution_count": 9,
   "id": "compound-valentine",
   "metadata": {},
   "outputs": [
    {
     "data": {
      "application/vnd.jupyter.widget-view+json": {
       "model_id": "69adf9f6decc4dd9a094d2c297a7e624",
       "version_major": 2,
       "version_minor": 0
      },
      "text/plain": [
       "interactive(children=(FloatSlider(value=2.0, continuous_update=False, description='$\\\\rho$', max=8.0, min=1.02…"
      ]
     },
     "metadata": {},
     "output_type": "display_data"
    },
    {
     "data": {
      "text/plain": [
       "<function __main__.fig3(CRRA, eta, a)>"
      ]
     },
     "execution_count": 9,
     "metadata": {},
     "output_type": "execute_result"
    }
   ],
   "source": [
    "# eta - slider\n",
    "eta_slider = widgets.FloatSlider(min = 0.0,\n",
    "                                 max = 1,\n",
    "                                 step = 0.01,\n",
    "                                 value = 1,  # Default value\n",
    "                                 continuous_update=False,\n",
    "                                 readout_format ='.4f',\n",
    "                                 description='$\\\\eta$')\n",
    "# a - slider\n",
    "a_slider = widgets.FloatSlider(min = 2,\n",
    "                               max = 6,\n",
    "                               step = 0.01,\n",
    "                               value = 3,  # Default value\n",
    "                               continuous_update=False,\n",
    "                               readout_format ='.4f',\n",
    "                               description='$a$')\n",
    "\n",
    "\n",
    "interact(fig3,\n",
    "         CRRA = crra_slider,\n",
    "         eta = eta_slider,\n",
    "         a = a_slider)"
   ]
  }
 ],
 "metadata": {
  "jupytext": {
   "cell_metadata_json": true,
   "formats": "ipynb,py:percent"
  },
  "kernelspec": {
   "display_name": "Python 3",
   "language": "python",
   "name": "python3"
  },
  "language_info": {
   "codemirror_mode": {
    "name": "ipython",
    "version": 3
   },
   "file_extension": ".py",
   "mimetype": "text/x-python",
   "name": "python",
   "nbconvert_exporter": "python",
   "pygments_lexer": "ipython3",
   "version": "3.8.8"
  },
  "latex_envs": {
   "LaTeX_envs_menu_present": true,
   "autoclose": false,
   "autocomplete": true,
   "bibliofile": "biblio.bib",
   "cite_by": "apalike",
   "current_citInitial": 1,
   "eqLabelWithNumbers": true,
   "eqNumInitial": 1,
   "hotkeys": {
    "equation": "Ctrl-E",
    "itemize": "Ctrl-I"
   },
   "labels_anchors": false,
   "latex_user_defs": false,
   "report_style_numbering": false,
   "user_envs_cfg": false
  },
  "toc": {
   "base_numbering": 1,
   "nav_menu": {},
   "number_sections": true,
   "sideBar": true,
   "skip_h1_title": false,
   "title_cell": "Table of Contents",
   "title_sidebar": "Contents",
   "toc_cell": false,
   "toc_position": {},
   "toc_section_display": true,
   "toc_window_display": true
  },
  "widgets": {
   "application/vnd.jupyter.widget-state+json": {
    "state": {
     "01850d5116d14290b8b363e5c48e6061": {
      "model_module": "@jupyter-widgets/controls",
      "model_module_version": "1.5.0",
      "model_name": "FloatSliderModel",
      "state": {
       "continuous_update": false,
       "description": "$\\eta$",
       "layout": "IPY_MODEL_5ce78d0c6ff046e1841138d0b0434893",
       "max": 1,
       "readout_format": ".4f",
       "step": 0.01,
       "style": "IPY_MODEL_ec605a1dfb914d6b94f0aac417976720",
       "value": 1
      }
     },
     "065286c62f5e4f5da00c11e7e26c6582": {
      "model_module": "@jupyter-widgets/controls",
      "model_module_version": "1.5.0",
      "model_name": "FloatSliderModel",
      "state": {
       "continuous_update": false,
       "description": "$a_{\\min}/m$",
       "layout": "IPY_MODEL_71cbf0b7a86d47e9bbbd2e74f4040c7d",
       "max": 0.5,
       "min": 0.05,
       "readout_format": ".4f",
       "step": 0.01,
       "style": "IPY_MODEL_766eedef59384df5b9b6f9a84728f3d4",
       "value": 0.2
      }
     },
     "08edec80271045168031b91207efe978": {
      "model_module": "@jupyter-widgets/base",
      "model_module_version": "1.2.0",
      "model_name": "LayoutModel",
      "state": {}
     },
     "208ae21e1245402f8337b5ab67a9c228": {
      "model_module": "@jupyter-widgets/controls",
      "model_module_version": "1.5.0",
      "model_name": "FloatSliderModel",
      "state": {
       "continuous_update": false,
       "description": "$a$",
       "layout": "IPY_MODEL_3f3181f3c9dd48daba00ae3cb8d759c7",
       "max": 6,
       "min": 2,
       "readout_format": ".4f",
       "step": 0.01,
       "style": "IPY_MODEL_ea736f7c4e924a49b275d44b81cf2fc8",
       "value": 3
      }
     },
     "2b390822fca24411a5cc46637ca3c1e1": {
      "model_module": "@jupyter-widgets/base",
      "model_module_version": "1.2.0",
      "model_name": "LayoutModel",
      "state": {}
     },
     "2cd222c73dbb4312b0a17029c421e00d": {
      "model_module": "@jupyter-widgets/output",
      "model_module_version": "1.0.0",
      "model_name": "OutputModel",
      "state": {
       "layout": "IPY_MODEL_3c08253a16fc48f7aa3fd7f47b1699e4",
       "outputs": [
        {
         "data": {
          "image/png": "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\n",
          "text/plain": "<Figure size 1000x800 with 1 Axes>"
         },
         "metadata": {},
         "output_type": "display_data"
        }
       ]
      }
     },
     "33cb53aa355a4ba7a79d9ad341dc40a1": {
      "model_module": "@jupyter-widgets/base",
      "model_module_version": "1.2.0",
      "model_name": "LayoutModel",
      "state": {}
     },
     "3449a4b0c629466aa0ae7e07c8db93c7": {
      "model_module": "@jupyter-widgets/controls",
      "model_module_version": "1.5.0",
      "model_name": "FloatSliderModel",
      "state": {
       "continuous_update": false,
       "description": "$m$",
       "layout": "IPY_MODEL_550329ffb12d4f35bad20b607e66b5fc",
       "max": 5,
       "min": 1,
       "readout_format": ".4f",
       "step": 0.5,
       "style": "IPY_MODEL_a3dffcb6a9eb438d8083e10e5457ee45",
       "value": 3
      }
     },
     "3c08253a16fc48f7aa3fd7f47b1699e4": {
      "model_module": "@jupyter-widgets/base",
      "model_module_version": "1.2.0",
      "model_name": "LayoutModel",
      "state": {}
     },
     "3f3181f3c9dd48daba00ae3cb8d759c7": {
      "model_module": "@jupyter-widgets/base",
      "model_module_version": "1.2.0",
      "model_name": "LayoutModel",
      "state": {}
     },
     "3ffe0761a29d48b095ef37084e71047d": {
      "model_module": "@jupyter-widgets/controls",
      "model_module_version": "1.5.0",
      "model_name": "VBoxModel",
      "state": {
       "_dom_classes": [
        "widget-interact"
       ],
       "children": [
        "IPY_MODEL_a76d887c2294483d81c4113cadccab58",
        "IPY_MODEL_e7be519aeae4439a83d693a090574aa0",
        "IPY_MODEL_3449a4b0c629466aa0ae7e07c8db93c7",
        "IPY_MODEL_065286c62f5e4f5da00c11e7e26c6582",
        "IPY_MODEL_a497e08c708c4f79892abe58d346fb37",
        "IPY_MODEL_8af11c1709c24560b7dbb68f34ac8a03"
       ],
       "layout": "IPY_MODEL_c3424d52a5cc4226a0f8385459740a2c"
      }
     },
     "501c6aa59c934d48bea1d4e82a8f039c": {
      "model_module": "@jupyter-widgets/base",
      "model_module_version": "1.2.0",
      "model_name": "LayoutModel",
      "state": {}
     },
     "550329ffb12d4f35bad20b607e66b5fc": {
      "model_module": "@jupyter-widgets/base",
      "model_module_version": "1.2.0",
      "model_name": "LayoutModel",
      "state": {}
     },
     "5ce78d0c6ff046e1841138d0b0434893": {
      "model_module": "@jupyter-widgets/base",
      "model_module_version": "1.2.0",
      "model_name": "LayoutModel",
      "state": {}
     },
     "5d5bc2f10adf43c7ba233dbb87f6d28c": {
      "model_module": "@jupyter-widgets/controls",
      "model_module_version": "1.5.0",
      "model_name": "SliderStyleModel",
      "state": {
       "description_width": ""
      }
     },
     "69adf9f6decc4dd9a094d2c297a7e624": {
      "model_module": "@jupyter-widgets/controls",
      "model_module_version": "1.5.0",
      "model_name": "VBoxModel",
      "state": {
       "_dom_classes": [
        "widget-interact"
       ],
       "children": [
        "IPY_MODEL_a76d887c2294483d81c4113cadccab58",
        "IPY_MODEL_01850d5116d14290b8b363e5c48e6061",
        "IPY_MODEL_208ae21e1245402f8337b5ab67a9c228",
        "IPY_MODEL_2cd222c73dbb4312b0a17029c421e00d"
       ],
       "layout": "IPY_MODEL_6f2d99bbaadd470991c4e0876e96dbe0"
      }
     },
     "6f2d99bbaadd470991c4e0876e96dbe0": {
      "model_module": "@jupyter-widgets/base",
      "model_module_version": "1.2.0",
      "model_name": "LayoutModel",
      "state": {}
     },
     "6f78b6f8d5534092b33a98414fca0e28": {
      "model_module": "@jupyter-widgets/base",
      "model_module_version": "1.2.0",
      "model_name": "LayoutModel",
      "state": {}
     },
     "71cbf0b7a86d47e9bbbd2e74f4040c7d": {
      "model_module": "@jupyter-widgets/base",
      "model_module_version": "1.2.0",
      "model_name": "LayoutModel",
      "state": {}
     },
     "766eedef59384df5b9b6f9a84728f3d4": {
      "model_module": "@jupyter-widgets/controls",
      "model_module_version": "1.5.0",
      "model_name": "SliderStyleModel",
      "state": {
       "description_width": ""
      }
     },
     "7acf78da4c914d1d884a1c5c23a69db3": {
      "model_module": "@jupyter-widgets/base",
      "model_module_version": "1.2.0",
      "model_name": "LayoutModel",
      "state": {}
     },
     "8af11c1709c24560b7dbb68f34ac8a03": {
      "model_module": "@jupyter-widgets/output",
      "model_module_version": "1.0.0",
      "model_name": "OutputModel",
      "state": {
       "layout": "IPY_MODEL_501c6aa59c934d48bea1d4e82a8f039c",
       "outputs": [
        {
         "data": {
          "image/png": "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\n",
          "text/plain": "<Figure size 1000x800 with 1 Axes>"
         },
         "metadata": {},
         "output_type": "display_data"
        }
       ]
      }
     },
     "9e4b7a683793440e9480f0076896ebda": {
      "model_module": "@jupyter-widgets/controls",
      "model_module_version": "1.5.0",
      "model_name": "FloatSliderModel",
      "state": {
       "continuous_update": false,
       "description": "$m$",
       "layout": "IPY_MODEL_2b390822fca24411a5cc46637ca3c1e1",
       "max": 50,
       "min": 5,
       "readout_format": ".4f",
       "step": 0.5,
       "style": "IPY_MODEL_5d5bc2f10adf43c7ba233dbb87f6d28c",
       "value": 20
      }
     },
     "a3dffcb6a9eb438d8083e10e5457ee45": {
      "model_module": "@jupyter-widgets/controls",
      "model_module_version": "1.5.0",
      "model_name": "SliderStyleModel",
      "state": {
       "description_width": ""
      }
     },
     "a497e08c708c4f79892abe58d346fb37": {
      "model_module": "@jupyter-widgets/controls",
      "model_module_version": "1.5.0",
      "model_name": "FloatSliderModel",
      "state": {
       "continuous_update": false,
       "description": "$a_{\\max}/m$",
       "layout": "IPY_MODEL_08edec80271045168031b91207efe978",
       "max": 0.99,
       "min": 0.5,
       "readout_format": ".4f",
       "step": 0.01,
       "style": "IPY_MODEL_faf4fcd5284d4f32b31b42fdc631e3fe",
       "value": 0.8
      }
     },
     "a76d887c2294483d81c4113cadccab58": {
      "model_module": "@jupyter-widgets/controls",
      "model_module_version": "1.5.0",
      "model_name": "FloatSliderModel",
      "state": {
       "continuous_update": false,
       "description": "$\\rho$",
       "layout": "IPY_MODEL_ba7302e4444546fa9a018b5cf992cd57",
       "max": 8,
       "min": 1.02,
       "readout_format": ".4f",
       "step": 0.01,
       "style": "IPY_MODEL_df0b67da0678410f93b8718b38b8d69d",
       "value": 2
      }
     },
     "a77b6f3518e74b449c214dc21eadcd97": {
      "model_module": "@jupyter-widgets/controls",
      "model_module_version": "1.5.0",
      "model_name": "SliderStyleModel",
      "state": {
       "description_width": ""
      }
     },
     "ba7302e4444546fa9a018b5cf992cd57": {
      "model_module": "@jupyter-widgets/base",
      "model_module_version": "1.2.0",
      "model_name": "LayoutModel",
      "state": {}
     },
     "c3424d52a5cc4226a0f8385459740a2c": {
      "model_module": "@jupyter-widgets/base",
      "model_module_version": "1.2.0",
      "model_name": "LayoutModel",
      "state": {}
     },
     "df0b67da0678410f93b8718b38b8d69d": {
      "model_module": "@jupyter-widgets/controls",
      "model_module_version": "1.5.0",
      "model_name": "SliderStyleModel",
      "state": {
       "description_width": ""
      }
     },
     "e7be519aeae4439a83d693a090574aa0": {
      "model_module": "@jupyter-widgets/controls",
      "model_module_version": "1.5.0",
      "model_name": "FloatSliderModel",
      "state": {
       "continuous_update": false,
       "description": "Shock s.d.",
       "layout": "IPY_MODEL_6f78b6f8d5534092b33a98414fca0e28",
       "max": 5,
       "min": 0.1,
       "readout_format": ".4f",
       "step": 0.01,
       "style": "IPY_MODEL_a77b6f3518e74b449c214dc21eadcd97",
       "value": 1
      }
     },
     "ea736f7c4e924a49b275d44b81cf2fc8": {
      "model_module": "@jupyter-widgets/controls",
      "model_module_version": "1.5.0",
      "model_name": "SliderStyleModel",
      "state": {
       "description_width": ""
      }
     },
     "ec605a1dfb914d6b94f0aac417976720": {
      "model_module": "@jupyter-widgets/controls",
      "model_module_version": "1.5.0",
      "model_name": "SliderStyleModel",
      "state": {
       "description_width": ""
      }
     },
     "f268869ca8cb44d2983e189a33311307": {
      "model_module": "@jupyter-widgets/controls",
      "model_module_version": "1.5.0",
      "model_name": "VBoxModel",
      "state": {
       "_dom_classes": [
        "widget-interact"
       ],
       "children": [
        "IPY_MODEL_a76d887c2294483d81c4113cadccab58",
        "IPY_MODEL_e7be519aeae4439a83d693a090574aa0",
        "IPY_MODEL_9e4b7a683793440e9480f0076896ebda",
        "IPY_MODEL_f7cfa90e768446ac836da39462425d5d"
       ],
       "layout": "IPY_MODEL_33cb53aa355a4ba7a79d9ad341dc40a1"
      }
     },
     "f7cfa90e768446ac836da39462425d5d": {
      "model_module": "@jupyter-widgets/output",
      "model_module_version": "1.0.0",
      "model_name": "OutputModel",
      "state": {
       "layout": "IPY_MODEL_7acf78da4c914d1d884a1c5c23a69db3",
       "outputs": [
        {
         "data": {
          "image/png": "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\n",
          "text/plain": "<Figure size 1000x800 with 1 Axes>"
         },
         "metadata": {},
         "output_type": "display_data"
        }
       ]
      }
     },
     "faf4fcd5284d4f32b31b42fdc631e3fe": {
      "model_module": "@jupyter-widgets/controls",
      "model_module_version": "1.5.0",
      "model_name": "SliderStyleModel",
      "state": {
       "description_width": ""
      }
     }
    },
    "version_major": 2,
    "version_minor": 0
   }
  }
 },
 "nbformat": 4,
 "nbformat_minor": 5
}
